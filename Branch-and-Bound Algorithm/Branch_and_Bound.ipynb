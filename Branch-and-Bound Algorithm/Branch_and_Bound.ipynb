{
  "nbformat": 4,
  "nbformat_minor": 0,
  "metadata": {
    "colab": {
      "provenance": []
    },
    "kernelspec": {
      "name": "python3",
      "display_name": "Python 3"
    },
    "language_info": {
      "name": "python"
    }
  },
  "cells": [
    {
      "cell_type": "markdown",
      "source": [
        "### Q1: Implement a full-enumeration tree to list all 6! schedules and their associated objective values."
      ],
      "metadata": {
        "id": "RPFCYWiDCILO"
      }
    },
    {
      "cell_type": "code",
      "source": [
        "def permutations(iterable, r=None):\n",
        "  pool = tuple(iterable)\n",
        "  n = len(pool)\n",
        "  r = n if r is None else r\n",
        "\n",
        "  if r > n:\n",
        "    return []\n",
        "\n",
        "  indices = list(range(n))\n",
        "  cycles = list(range(n, n-r, -1))\n",
        "\n",
        "  result = []\n",
        "  result.append(tuple(pool[i] for i in indices[:r]))\n",
        "\n",
        "  while n:\n",
        "    for i in reversed(range(r)):\n",
        "      cycles[i] -= 1\n",
        "      if cycles[i] == 0:\n",
        "        indices[i:] = indices[i+1:] + indices[i:i+1]\n",
        "        cycles[i] = n - i\n",
        "      else:\n",
        "        j = cycles[i]\n",
        "        indices[i], indices[-j] = indices[-j], indices[i]\n",
        "        result.append(tuple(pool[i] for i in indices[:r]))\n",
        "        break\n",
        "    else:\n",
        "      return result\n",
        "\n",
        "\n",
        "def total_time(schedule, process_times, arrive_times):\n",
        "  complete_time = []\n",
        "  initial_time = 0\n",
        "  for i in schedule :\n",
        "    if (arrive_times[i-1] > initial_time) :\n",
        "      initial_time += arrive_times[i-1] + process_times[i-1]\n",
        "    else :\n",
        "      initial_time += process_times[i-1]\n",
        "    complete_time.append(initial_time)\n",
        "  # return complete_time\n",
        "  return sum(complete_time)\n",
        "\n",
        "def enumerate_schedules(processing_times, arrive_times):\n",
        "  all_schedules = list(permutations(range(1, n+1)))\n",
        "  results = []\n",
        "\n",
        "  for schedule in all_schedules:\n",
        "    objective_value = total_time(schedule, process_times, arrive_times)\n",
        "    results.append((schedule, objective_value))\n",
        "\n",
        "  return results\n",
        "\n",
        "# main\n",
        "n = 6\n",
        "process_times = [6, 2, 5, 2, 8, 2]\n",
        "arrive_times = [0, 2, 2, 6, 7, 9]\n",
        "\n",
        "schedules = enumerate_schedules(process_times, arrive_times)\n",
        "\n",
        "#for schedule, objective_value in schedules:\n",
        "#  print(f'排程: {schedule}, 目標值: {objective_value}')\n",
        "\n",
        "optimal_schedule, optimal_value = min(schedules, key = lambda x:x[1])\n",
        "\n",
        "print('minimum s: ', end = \"\")\n",
        "for schedule, objective_value in schedules:\n",
        "  if objective_value == optimal_value:\n",
        "    print(schedule, end = \" \")\n",
        "print(f', 對應目標值: {optimal_value}')"
      ],
      "metadata": {
        "colab": {
          "base_uri": "https://localhost:8080/"
        },
        "id": "UCSd1yvxe4CS",
        "outputId": "f8e1c4e7-1db7-41fe-add8-f34bb84a9079"
      },
      "execution_count": null,
      "outputs": [
        {
          "output_type": "stream",
          "name": "stdout",
          "text": [
            "minimum s: (1, 2, 4, 6, 3, 5) (1, 4, 2, 6, 3, 5) , 對應目標值: 78\n"
          ]
        }
      ]
    },
    {
      "cell_type": "markdown",
      "source": [
        "### Q2: Construct the schedule obtained from the Shortest Remaining Processing Time First (SRPT) rule. Deploy a min-heap to facilitate your implementation of the SRPT rule."
      ],
      "metadata": {
        "id": "-yUBzv5ZCcmH"
      }
    },
    {
      "cell_type": "code",
      "source": [
        "import matplotlib.pyplot as plt\n",
        "\n",
        "def Heapify(array,n):\n",
        "  min = n\n",
        "  leftChild = 2*n + 1\n",
        "  rightChild = 2*n + 2\n",
        "  if(leftChild < len(array) or rightChild < len(array)):\n",
        "    if (leftChild < len(array) and int(array[leftChild][2]) < int(array[min][2])):\n",
        "      min = leftChild\n",
        "    if (rightChild < len(array) and int(array[rightChild][2]) < int(array[min][2])):\n",
        "      min = rightChild\n",
        "    if(min != n):\n",
        "      index = array[n]\n",
        "      array[n] = array[min]\n",
        "      array[min] = index\n",
        "      Heapify(array, min)\n",
        "\n",
        "def delete(array):\n",
        "  a = array[0]\n",
        "  array[0] = array[len(array) - 1]\n",
        "  array[len(array) - 1] = a\n",
        "  array.pop(len(array) - 1)\n",
        "  min_heap(array, len(array))\n",
        "\n",
        "def insert(array, new_num):\n",
        "  array.append(new_num)\n",
        "  min_heap(array, len(array))\n",
        "\n",
        "def min_heap(array,n):\n",
        "  for i in range(int(n // 2), -1, -1):\n",
        "    Heapify(array, i)\n",
        "\n",
        "def totalTime(process):\n",
        "  # min_heap(process,len(process))\n",
        "  sumTime = 0\n",
        "  ct = [0] * len(process)\n",
        "  complete = 0\n",
        "  t = 0\n",
        "  while (complete != len(process)): #當所有任務還未完成\n",
        "    for i in range(0, len(process)):\n",
        "        if (process[i][1] <= t and process[i][2] > 0):\n",
        "          if (i == 0):\n",
        "            nowTask = [process[i]] #若第一個任務，則創立一個陣列並將第一個任務放入\n",
        "          if(i != 0):\n",
        "            insert(nowTask, process[i]) #插入新的任務並min-heap\n",
        "    t = t+1\n",
        "    if(len(nowTask) != 0): #若nowtask中有資料\n",
        "      job.append(nowTask[0][0])\n",
        "      # print(\"現在執行的job為：\", nowTask[0][0]) #印出現在執行任務的index\n",
        "      process[nowTask[0][0]-1][2] = process[nowTask[0][0]-1][2] - 1\n",
        "      if(nowTask[0][2] <= 0): #若nowtask[0]的任務完成\n",
        "        complete = complete + 1\n",
        "        ct[nowTask[0][0]-1] = t\n",
        "    nowTask = []\n",
        "  print(\"total complete time: \", sum(ct))\n",
        "  # print(job)\n",
        "\n",
        "def plot_chart(x, y):\n",
        "  plt.figure(figsize=(10, 6))\n",
        "  colors = ['red', 'orange', 'yellow', 'green', 'blue', 'pink']\n",
        "\n",
        "  for i in range(len(x)):\n",
        "    if y[i] != 0:\n",
        "      plt.barh(y[i], 1, left=x[i], color=colors[y[i] - 1], edgecolor='black')\n",
        "\n",
        "  plt.xlabel('Time')\n",
        "  plt.ylabel('Job')\n",
        "  plt.title('Total processing time')\n",
        "  plt.yticks(range(1, 7))\n",
        "  plt.xlim(1, max(x))\n",
        "  plt.grid(axis='x', linestyle='--', alpha=0.7)\n",
        "  plt.show()\n",
        "\n",
        "# main\n",
        "# job, non-negative arrive time, positive processing length\n",
        "process = [[1,0,6], [2,2,2], [3,2,5], [4,6,2], [5,7,8], [6,9,2]] #length is 6\n",
        "job = []\n",
        "totalTime(process)\n",
        "print(\"ensured that every task is finished：\", process) #process[][2]都需歸零\n",
        "\n",
        "x = list(range(1, 26))\n",
        "plot_chart(x, job)"
      ],
      "metadata": {
        "id": "xEKC8NT5oEM6",
        "colab": {
          "base_uri": "https://localhost:8080/",
          "height": 599
        },
        "outputId": "2fa3f7d0-655f-449d-aa7f-9bd3dd48c80e"
      },
      "execution_count": null,
      "outputs": [
        {
          "output_type": "stream",
          "name": "stdout",
          "text": [
            "total complete time:  76\n",
            "ensured that every task is finished： [[1, 0, 0], [2, 2, 0], [3, 2, 0], [4, 6, 0], [5, 7, 0], [6, 9, 0]]\n"
          ]
        },
        {
          "output_type": "display_data",
          "data": {
            "text/plain": [
              "<Figure size 1000x600 with 1 Axes>"
            ],
            "image/png": "[encoded data removed]"
          },
          "metadata": {}
        }
      ]
    }
  ]
}